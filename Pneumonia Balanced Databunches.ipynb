{
 "cells": [
  {
   "cell_type": "markdown",
   "metadata": {},
   "source": [
    "# Pneumonia Balanced Databunches\n",
    "\n",
    "Includes support for balanced classes and and subsetted training set size.  Default is 100 entries, use scale for grow/shrink size.\n",
    "\n",
    "Databunches:\n",
    "- get_db_vb() - returns 2 classes: NORMAL vs PNEUMONIA\n",
    "- get_db_vb() - returns 2 classes: viral vs bacterial\n",
    "- get_db_nvb() - returns 3 classes: normal, viral, bacterial"
   ]
  },
  {
   "cell_type": "code",
   "execution_count": 1,
   "metadata": {
    "_cell_guid": "79c7e3d0-c299-4dcb-8224-4455121ee9b0",
    "_uuid": "d629ff2d2480ee46fbb7e2d37f6b5fab8052498a"
   },
   "outputs": [],
   "source": [
    "%reload_ext autoreload\n",
    "%autoreload 2\n",
    "%matplotlib inline"
   ]
  },
  {
   "cell_type": "code",
   "execution_count": 2,
   "metadata": {},
   "outputs": [],
   "source": [
    "import collections"
   ]
  },
  {
   "cell_type": "code",
   "execution_count": 3,
   "metadata": {},
   "outputs": [],
   "source": [
    "from fastai.vision import *\n",
    "from fastai.callbacks import SaveModelCallback\n",
    "from fastai.metrics import error_rate\n",
    "import os"
   ]
  },
  {
   "cell_type": "code",
   "execution_count": 4,
   "metadata": {},
   "outputs": [],
   "source": [
    "import fastai_addons   #add plot2 extension -- learn.recorder.plot2()\n",
    "from fastai_addons import interpretation_summary, plot_confusion_matrix, \\\n",
    "                          get_accuracy, analyze_confidence, accuracy_vs_threshold, \\\n",
    "                          show_incremental_accuracy,  analyze_low_confidence, \\\n",
    "                          plot_confusion_matrix_thresh, get_val_stats"
   ]
  },
  {
   "cell_type": "code",
   "execution_count": 5,
   "metadata": {},
   "outputs": [],
   "source": [
    "from pneumonia_loaders import *"
   ]
  },
  {
   "cell_type": "markdown",
   "metadata": {},
   "source": [
    "# Config"
   ]
  },
  {
   "cell_type": "code",
   "execution_count": 6,
   "metadata": {},
   "outputs": [],
   "source": [
    "model = models.resnet18\n",
    "prefix = 'other_classifier2_'\n",
    "size=500\n",
    "bs = 64"
   ]
  },
  {
   "cell_type": "code",
   "execution_count": 7,
   "metadata": {},
   "outputs": [
    {
     "data": {
      "text/plain": [
       "[WindowsPath('data/chest_xray/data'),\n",
       " WindowsPath('data/chest_xray/test'),\n",
       " WindowsPath('data/chest_xray/train'),\n",
       " WindowsPath('data/chest_xray/val')]"
      ]
     },
     "execution_count": 7,
     "metadata": {},
     "output_type": "execute_result"
    }
   ],
   "source": [
    "path = Path()/'data'/'chest_xray'\n",
    "path.ls()"
   ]
  },
  {
   "cell_type": "markdown",
   "metadata": {},
   "source": [
    "# Code"
   ]
  },
  {
   "cell_type": "raw",
   "metadata": {},
   "source": [
    "def default_transforms():\n",
    "    tfms = get_transforms(max_rotate=5.0)\n",
    "#     tfms = get_transforms(do_flip=True, flip_vert=False,\n",
    "#                           max_zoom=1.3, max_lighting=0.3)\n",
    "    return tfms"
   ]
  },
  {
   "cell_type": "markdown",
   "metadata": {},
   "source": [
    "# Analysis"
   ]
  },
  {
   "cell_type": "markdown",
   "metadata": {},
   "source": [
    "### Get Unfiltered Counts"
   ]
  },
  {
   "cell_type": "code",
   "execution_count": 8,
   "metadata": {},
   "outputs": [
    {
     "name": "stdout",
     "output_type": "stream",
     "text": [
      "{'NORMAL': 1341, 'PNEUMONIA': 3875, '_total': 5216}\n",
      "{'NORMAL': 8, 'PNEUMONIA': 8, '_total': 16}\n",
      "{'NORMAL': 234, 'PNEUMONIA': 390, '_total': 624}\n",
      "\n",
      "{'PNEUMONIA': 3875, '_total': 3875}\n",
      "{'PNEUMONIA': 8, '_total': 8}\n",
      "{'PNEUMONIA': 390, '_total': 390}\n",
      "\n",
      "{'normal': 1341, 'bacteria': 2530, 'virus': 1345, '_total': 5216}\n",
      "{'normal': 8, 'bacteria': 8, '_total': 16}\n",
      "{'normal': 234, 'bacteria': 242, 'virus': 148, '_total': 624}\n",
      "\n",
      "{'bacteria': 2530, 'virus': 1345, '_total': 3875}\n",
      "{'bacteria': 8, '_total': 8}\n",
      "{'bacteria': 242, 'virus': 148, '_total': 390}\n"
     ]
    }
   ],
   "source": [
    "print(characterize_labellist(path/'train'))\n",
    "print(characterize_labellist(path/'val'))\n",
    "print(characterize_labellist(path/'test'))\n",
    "print('')\n",
    "print(characterize_labellist(path/'train', filter_func=filter_files))\n",
    "print(characterize_labellist(path/'val', filter_func=filter_files))\n",
    "print(characterize_labellist(path/'test', filter_func=filter_files))\n",
    "print('')\n",
    "print(characterize_labellist(path/'train', label_func=get_labels))\n",
    "print(characterize_labellist(path/'val', label_func=get_labels))\n",
    "print(characterize_labellist(path/'test', label_func=get_labels))\n",
    "print('')\n",
    "print(characterize_labellist(path/'train', label_func=get_labels, filter_func=filter_files))\n",
    "print(characterize_labellist(path/'val', label_func=get_labels, filter_func=filter_files))\n",
    "print(characterize_labellist(path/'test', label_func=get_labels, filter_func=filter_files))"
   ]
  },
  {
   "cell_type": "markdown",
   "metadata": {},
   "source": [
    "### Get Sampled Counts"
   ]
  },
  {
   "cell_type": "code",
   "execution_count": 9,
   "metadata": {},
   "outputs": [
    {
     "data": {
      "text/plain": [
       "0.6324786324786325"
      ]
     },
     "execution_count": 9,
     "metadata": {},
     "output_type": "execute_result"
    }
   ],
   "source": [
    "148/234"
   ]
  },
  {
   "cell_type": "code",
   "execution_count": 10,
   "metadata": {},
   "outputs": [],
   "source": [
    "sample_pneumonia = partial(sample_files, probs={'NORMAL':1.0, 'PNEUMONIA':0.346}, default_prob=0)\n",
    "sample_pneumonia_v = partial(sample_files, probs={'NORMAL':1.0, 'PNEUMONIA':1.0}, default_prob=0)\n",
    "sample_pneumonia_t = partial(sample_files, probs={'NORMAL':1.0, 'PNEUMONIA':0.6}, default_prob=0)\n",
    "\n",
    "sample_vb = partial(sample_files, probs={'bacteria':0.5316, 'virus':1.0}, default_prob=1.0)\n",
    "sample_vb_v = partial(sample_files, probs={'bacteria':1.0, 'virus':1.0}, default_prob=1.0)\n",
    "sample_vb_t = partial(sample_files, probs={'bacteria':0.6115, 'virus':1.0}, default_prob=0.6325)"
   ]
  },
  {
   "cell_type": "code",
   "execution_count": 11,
   "metadata": {},
   "outputs": [
    {
     "name": "stdout",
     "output_type": "stream",
     "text": [
      "{'NORMAL': 1341, 'PNEUMONIA': 1353, '_total': 2694}\n",
      "{'NORMAL': 8, 'PNEUMONIA': 8, '_total': 16}\n",
      "{'NORMAL': 234, 'PNEUMONIA': 228, '_total': 462}\n",
      "\n",
      "{'PNEUMONIA': 1316, '_total': 1316}\n",
      "{'PNEUMONIA': 8, '_total': 8}\n",
      "{'PNEUMONIA': 226, '_total': 226}\n",
      "\n",
      "{'normal': 1341, 'bacteria': 1366, 'virus': 1345, '_total': 4052}\n",
      "{'normal': 8, 'bacteria': 8, '_total': 16}\n",
      "{'normal': 133, 'bacteria': 146, 'virus': 148, '_total': 427}\n",
      "\n",
      "{'bacteria': 1336, 'virus': 1345, '_total': 2681}\n",
      "{'bacteria': 8, '_total': 8}\n",
      "{'bacteria': 141, 'virus': 148, '_total': 289}\n"
     ]
    }
   ],
   "source": [
    "print(characterize_labellist(path/'train', sample_func=sample_pneumonia))\n",
    "print(characterize_labellist(path/'val', sample_func=sample_pneumonia_v))\n",
    "print(characterize_labellist(path/'test', sample_func=sample_pneumonia_t))\n",
    "print('')\n",
    "print(characterize_labellist(path/'train', filter_func=filter_files, sample_func=sample_pneumonia))\n",
    "print(characterize_labellist(path/'val', filter_func=filter_files, sample_func=sample_pneumonia_v))\n",
    "print(characterize_labellist(path/'test', filter_func=filter_files, sample_func=sample_pneumonia_t))\n",
    "print('')\n",
    "print(characterize_labellist(path/'train', label_func=get_labels, sample_func=sample_vb))\n",
    "print(characterize_labellist(path/'val', label_func=get_labels, sample_func=sample_vb_v))\n",
    "print(characterize_labellist(path/'test', label_func=get_labels, sample_func=sample_vb_t))\n",
    "print('')\n",
    "print(characterize_labellist(path/'train', label_func=get_labels, filter_func=filter_files, sample_func=sample_vb))\n",
    "print(characterize_labellist(path/'val', label_func=get_labels, filter_func=filter_files, sample_func=sample_vb_v))\n",
    "print(characterize_labellist(path/'test', label_func=get_labels, filter_func=filter_files, sample_func=sample_vb_t))"
   ]
  },
  {
   "cell_type": "markdown",
   "metadata": {},
   "source": [
    "### Reduce size"
   ]
  },
  {
   "cell_type": "code",
   "execution_count": 12,
   "metadata": {},
   "outputs": [
    {
     "data": {
      "text/plain": [
       "0.33112582781456956"
      ]
     },
     "execution_count": 12,
     "metadata": {},
     "output_type": "execute_result"
    }
   ],
   "source": [
    "100/302"
   ]
  },
  {
   "cell_type": "code",
   "execution_count": 13,
   "metadata": {},
   "outputs": [
    {
     "name": "stdout",
     "output_type": "stream",
     "text": [
      "{'NORMAL': 48, 'PNEUMONIA': 56, '_total': 104}\n",
      "{'NORMAL': 8, 'PNEUMONIA': 8, '_total': 16}\n",
      "{'NORMAL': 48, 'PNEUMONIA': 33, '_total': 81}\n",
      "\n",
      "{'normal': 39, 'bacteria': 26, 'virus': 30, '_total': 95}\n",
      "{'normal': 8, 'bacteria': 8, '_total': 16}\n",
      "{'normal': 37, 'bacteria': 37, 'virus': 33, '_total': 107}\n",
      "\n",
      "{'virus': 54, 'bacteria': 61, '_total': 115}\n",
      "{'bacteria': 8, '_total': 8}\n",
      "{'bacteria': 56, 'virus': 45, '_total': 101}\n"
     ]
    }
   ],
   "source": [
    "print(characterize_labellist(path/'train', sample_func=sample_pneumonia, p_sample=0.0373))\n",
    "print(characterize_labellist(path/'val', sample_func=sample_pneumonia_v))\n",
    "print(characterize_labellist(path/'test', sample_func=sample_pneumonia_t, p_sample=0.216))\n",
    "print('')\n",
    "print(characterize_labellist(path/'train', label_func=get_labels, sample_func=sample_vb, p_sample=0.0249))\n",
    "print(characterize_labellist(path/'val', label_func=get_labels, sample_func=sample_vb_v))\n",
    "print(characterize_labellist(path/'test', label_func=get_labels, sample_func=sample_vb_t, p_sample=0.2273))\n",
    "print('')\n",
    "print(characterize_labellist(path/'train', label_func=get_labels, filter_func=filter_files, sample_func=sample_vb, p_sample=0.0376))\n",
    "print(characterize_labellist(path/'val', label_func=get_labels, filter_func=filter_files, sample_func=sample_vb_v))\n",
    "print(characterize_labellist(path/'test', label_func=get_labels, filter_func=filter_files, sample_func=sample_vb_t, p_sample=0.3311))"
   ]
  },
  {
   "cell_type": "markdown",
   "metadata": {},
   "source": [
    "### Verify Normal / Pneumonia"
   ]
  },
  {
   "cell_type": "code",
   "execution_count": 14,
   "metadata": {},
   "outputs": [
    {
     "data": {
      "text/plain": [
       "ImageDataBunch;\n",
       "\n",
       "Train: LabelList (108 items)\n",
       "x: ImageList\n",
       "Image (3, 224, 224),Image (3, 224, 224),Image (3, 224, 224),Image (3, 224, 224),Image (3, 224, 224)\n",
       "y: CategoryList\n",
       "NORMAL,NORMAL,NORMAL,NORMAL,NORMAL\n",
       "Path: data\\chest_xray\\train;\n",
       "\n",
       "Valid: LabelList (99 items)\n",
       "x: ImageList\n",
       "Image (3, 224, 224),Image (3, 224, 224),Image (3, 224, 224),Image (3, 224, 224),Image (3, 224, 224)\n",
       "y: CategoryList\n",
       "NORMAL,NORMAL,NORMAL,NORMAL,NORMAL\n",
       "Path: data\\chest_xray\\test;\n",
       "\n",
       "Test: None"
      ]
     },
     "execution_count": 14,
     "metadata": {},
     "output_type": "execute_result"
    }
   ],
   "source": [
    "data = get_db_np(path)\n",
    "data"
   ]
  },
  {
   "cell_type": "code",
   "execution_count": 15,
   "metadata": {},
   "outputs": [
    {
     "name": "stdout",
     "output_type": "stream",
     "text": [
      "Training set:\n",
      "  NORMAL    :    51     47.2%\n",
      "  PNEUMONIA :    57     52.8%\n",
      "  Total     :   108\n",
      "\n",
      "Validation set:\n",
      "  NORMAL    :    52     52.5%\n",
      "  PNEUMONIA :    47     47.5%\n",
      "  Total     :    99\n"
     ]
    }
   ],
   "source": [
    "print('Training set:')\n",
    "show_categories(data.train_ds.y)\n",
    "print('\\nValidation set:')\n",
    "show_categories(data.valid_ds.y)"
   ]
  },
  {
   "cell_type": "markdown",
   "metadata": {},
   "source": [
    "### Verify Viral / Bacterial"
   ]
  },
  {
   "cell_type": "code",
   "execution_count": 16,
   "metadata": {},
   "outputs": [
    {
     "data": {
      "text/plain": [
       "ImageDataBunch;\n",
       "\n",
       "Train: LabelList (103 items)\n",
       "x: ImageList\n",
       "Image (3, 224, 224),Image (3, 224, 224),Image (3, 224, 224),Image (3, 224, 224),Image (3, 224, 224)\n",
       "y: CategoryList\n",
       "virus,virus,virus,virus,virus\n",
       "Path: data\\chest_xray\\train;\n",
       "\n",
       "Valid: LabelList (95 items)\n",
       "x: ImageList\n",
       "Image (3, 224, 224),Image (3, 224, 224),Image (3, 224, 224),Image (3, 224, 224),Image (3, 224, 224)\n",
       "y: CategoryList\n",
       "bacteria,bacteria,bacteria,bacteria,bacteria\n",
       "Path: data\\chest_xray\\test;\n",
       "\n",
       "Test: None"
      ]
     },
     "execution_count": 16,
     "metadata": {},
     "output_type": "execute_result"
    }
   ],
   "source": [
    "data = get_db_vb(path)\n",
    "data"
   ]
  },
  {
   "cell_type": "code",
   "execution_count": 17,
   "metadata": {},
   "outputs": [
    {
     "name": "stdout",
     "output_type": "stream",
     "text": [
      "Training set:\n",
      "  bacteria  :    45     43.7%\n",
      "  virus     :    58     56.3%\n",
      "  Total     :   103\n",
      "\n",
      "Validation set:\n",
      "  bacteria  :    51     53.7%\n",
      "  virus     :    44     46.3%\n",
      "  Total     :    95\n"
     ]
    }
   ],
   "source": [
    "print('Training set:')\n",
    "show_categories(data.train_ds.y)\n",
    "print('\\nValidation set:')\n",
    "show_categories(data.valid_ds.y)"
   ]
  },
  {
   "cell_type": "markdown",
   "metadata": {},
   "source": [
    "### Verify Normal/Viral / Bacterial"
   ]
  },
  {
   "cell_type": "code",
   "execution_count": 18,
   "metadata": {},
   "outputs": [
    {
     "data": {
      "text/plain": [
       "ImageDataBunch;\n",
       "\n",
       "Train: LabelList (121 items)\n",
       "x: ImageList\n",
       "Image (3, 224, 224),Image (3, 224, 224),Image (3, 224, 224),Image (3, 224, 224),Image (3, 224, 224)\n",
       "y: CategoryList\n",
       "normal,normal,normal,normal,normal\n",
       "Path: data\\chest_xray\\train;\n",
       "\n",
       "Valid: LabelList (106 items)\n",
       "x: ImageList\n",
       "Image (3, 224, 224),Image (3, 224, 224),Image (3, 224, 224),Image (3, 224, 224),Image (3, 224, 224)\n",
       "y: CategoryList\n",
       "normal,normal,normal,normal,normal\n",
       "Path: data\\chest_xray\\test;\n",
       "\n",
       "Test: None"
      ]
     },
     "execution_count": 18,
     "metadata": {},
     "output_type": "execute_result"
    }
   ],
   "source": [
    "data = get_db_nvb(path)\n",
    "data"
   ]
  },
  {
   "cell_type": "code",
   "execution_count": 19,
   "metadata": {},
   "outputs": [
    {
     "name": "stdout",
     "output_type": "stream",
     "text": [
      "Training set:\n",
      "  bacteria  :    39     32.2%\n",
      "  normal    :    42     34.7%\n",
      "  virus     :    40     33.1%\n",
      "  Total     :   121\n",
      "\n",
      "Validation set:\n",
      "  bacteria  :    44     41.5%\n",
      "  normal    :    27     25.5%\n",
      "  virus     :    35     33.0%\n",
      "  Total     :   106\n"
     ]
    }
   ],
   "source": [
    "print('Training set:')\n",
    "show_categories(data.train_ds.y)\n",
    "print('\\nValidation set:')\n",
    "show_categories(data.valid_ds.y)"
   ]
  },
  {
   "cell_type": "code",
   "execution_count": null,
   "metadata": {},
   "outputs": [],
   "source": []
  }
 ],
 "metadata": {
  "kernelspec": {
   "display_name": "Python [conda env:fastai]",
   "language": "python",
   "name": "conda-env-fastai-py"
  },
  "language_info": {
   "codemirror_mode": {
    "name": "ipython",
    "version": 3
   },
   "file_extension": ".py",
   "mimetype": "text/x-python",
   "name": "python",
   "nbconvert_exporter": "python",
   "pygments_lexer": "ipython3",
   "version": "3.7.4"
  }
 },
 "nbformat": 4,
 "nbformat_minor": 1
}
