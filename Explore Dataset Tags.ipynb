{
 "cells": [
  {
   "cell_type": "markdown",
   "metadata": {
    "colab_type": "text",
    "id": "view-in-github"
   },
   "source": [
    "<a href=\"https://colab.research.google.com/github/williamsdoug/skin_lesion_ml/blob/master/Explore%20Dataset.ipynb\" target=\"_parent\"><img src=\"https://colab.research.google.com/assets/colab-badge.svg\" alt=\"Open In Colab\"/></a>"
   ]
  },
  {
   "cell_type": "code",
   "execution_count": 1,
   "metadata": {
    "colab": {},
    "colab_type": "code",
    "id": "jGDlemdkOH5s"
   },
   "outputs": [],
   "source": [
    "from fastai.vision import *\n",
    "import pandas as pd\n",
    "import collections\n",
    "import math\n",
    "import csv"
   ]
  },
  {
   "cell_type": "code",
   "execution_count": 2,
   "metadata": {
    "colab": {
     "base_uri": "https://localhost:8080/",
     "height": 34
    },
    "colab_type": "code",
    "id": "sBnpnhtLP_yo",
    "outputId": "3ff87925-4660-43b1-d0ab-8d00109c2393"
   },
   "outputs": [
    {
     "data": {
      "text/plain": [
       "<torch._C.Generator at 0x1840cb11fb0>"
      ]
     },
     "execution_count": 2,
     "metadata": {},
     "output_type": "execute_result"
    }
   ],
   "source": [
    "import random\n",
    "random.seed(1234)\n",
    "import numpy as np\n",
    "np.random.seed(1234)\n",
    "import torch\n",
    "torch.manual_seed(1234)"
   ]
  },
  {
   "cell_type": "markdown",
   "metadata": {},
   "source": [
    "## Code"
   ]
  },
  {
   "cell_type": "code",
   "execution_count": 3,
   "metadata": {},
   "outputs": [],
   "source": [
    "def get_labels(file_path, known_classes=['normal', 'bacteria', 'virus'], default='normal'): \n",
    "    base = file_path.stem\n",
    "    for k in known_classes:\n",
    "        if k in base:\n",
    "            return k\n",
    "    return default"
   ]
  },
  {
   "cell_type": "markdown",
   "metadata": {
    "colab_type": "text",
    "id": "bmm9jP-dOH5w"
   },
   "source": [
    "## Explore Data Folders"
   ]
  },
  {
   "cell_type": "code",
   "execution_count": 4,
   "metadata": {
    "colab": {},
    "colab_type": "code",
    "id": "ismOLZkNOH54"
   },
   "outputs": [],
   "source": [
    "PATH = Path()\n",
    "images = PATH / 'data' / 'chest_xray'"
   ]
  },
  {
   "cell_type": "code",
   "execution_count": 5,
   "metadata": {},
   "outputs": [
    {
     "data": {
      "text/plain": [
       "[WindowsPath('data/chest_xray/data'),\n",
       " WindowsPath('data/chest_xray/test'),\n",
       " WindowsPath('data/chest_xray/train'),\n",
       " WindowsPath('data/chest_xray/val')]"
      ]
     },
     "execution_count": 5,
     "metadata": {},
     "output_type": "execute_result"
    }
   ],
   "source": [
    "images.ls()"
   ]
  },
  {
   "cell_type": "code",
   "execution_count": 6,
   "metadata": {},
   "outputs": [
    {
     "data": {
      "text/plain": [
       "[WindowsPath('data/chest_xray/train/NORMAL'),\n",
       " WindowsPath('data/chest_xray/train/PNEUMONIA')]"
      ]
     },
     "execution_count": 6,
     "metadata": {},
     "output_type": "execute_result"
    }
   ],
   "source": [
    "(images/'train').ls()"
   ]
  },
  {
   "cell_type": "code",
   "execution_count": 7,
   "metadata": {},
   "outputs": [
    {
     "data": {
      "text/plain": [
       "[WindowsPath('data/chest_xray/train/NORMAL/IM-0115-0001.jpeg'),\n",
       " WindowsPath('data/chest_xray/train/NORMAL/IM-0117-0001.jpeg'),\n",
       " WindowsPath('data/chest_xray/train/NORMAL/IM-0119-0001.jpeg'),\n",
       " WindowsPath('data/chest_xray/train/NORMAL/IM-0122-0001.jpeg'),\n",
       " WindowsPath('data/chest_xray/train/NORMAL/IM-0125-0001.jpeg'),\n",
       " WindowsPath('data/chest_xray/train/NORMAL/IM-0127-0001.jpeg'),\n",
       " WindowsPath('data/chest_xray/train/NORMAL/IM-0128-0001.jpeg'),\n",
       " WindowsPath('data/chest_xray/train/NORMAL/IM-0129-0001.jpeg'),\n",
       " WindowsPath('data/chest_xray/train/NORMAL/IM-0131-0001.jpeg'),\n",
       " WindowsPath('data/chest_xray/train/NORMAL/IM-0133-0001.jpeg')]"
      ]
     },
     "execution_count": 7,
     "metadata": {},
     "output_type": "execute_result"
    }
   ],
   "source": [
    "(images/'train'/'NORMAL').ls()[:10]"
   ]
  },
  {
   "cell_type": "markdown",
   "metadata": {},
   "source": [
    "## Extract Labels (from file name)"
   ]
  },
  {
   "cell_type": "code",
   "execution_count": 8,
   "metadata": {},
   "outputs": [
    {
     "data": {
      "text/plain": [
       "Counter({'normal': 1341})"
      ]
     },
     "execution_count": 8,
     "metadata": {},
     "output_type": "execute_result"
    }
   ],
   "source": [
    "collections.Counter([str(get_labels(fn)) for fn in (images/'train'/'NORMAL').ls()])"
   ]
  },
  {
   "cell_type": "code",
   "execution_count": 9,
   "metadata": {},
   "outputs": [
    {
     "data": {
      "text/plain": [
       "Counter({'bacteria': 2530, 'virus': 1345})"
      ]
     },
     "execution_count": 9,
     "metadata": {},
     "output_type": "execute_result"
    }
   ],
   "source": [
    "collections.Counter([str(get_labels(fn)) for fn in (images/'train'/'PNEUMONIA').ls()])"
   ]
  },
  {
   "cell_type": "code",
   "execution_count": 10,
   "metadata": {},
   "outputs": [
    {
     "name": "stdout",
     "output_type": "stream",
     "text": [
      "IM-0115-0001 normal\n",
      "IM-0117-0001 normal\n"
     ]
    }
   ],
   "source": [
    "for fn in (images/'train'/'NORMAL').ls()[:2]:\n",
    "    base = fn.stem\n",
    "    print(base, get_labels(fn))"
   ]
  },
  {
   "cell_type": "code",
   "execution_count": 11,
   "metadata": {},
   "outputs": [
    {
     "name": "stdout",
     "output_type": "stream",
     "text": [
      "person1000_bacteria_2931 bacteria\n",
      "person1000_virus_1681 virus\n"
     ]
    }
   ],
   "source": [
    "for fn in (images/'train'/'PNEUMONIA').ls()[:2]:\n",
    "    base = fn.stem\n",
    "    print(base, get_labels(fn))"
   ]
  },
  {
   "cell_type": "markdown",
   "metadata": {
    "colab_type": "text",
    "id": "yfk4gxigOH56"
   },
   "source": [
    "## Construct Databunch from training data"
   ]
  },
  {
   "cell_type": "code",
   "execution_count": 12,
   "metadata": {},
   "outputs": [],
   "source": [
    "def get_databunch(path, bs=8, size=500, workers=1, valid_pct=0.2, seed=None, tfms=None):\n",
    "    if tfms is None:\n",
    "        tfms = get_transforms()\n",
    "        \n",
    "    def get_labels(file_path, known_classes=['normal', 'bacteria', 'virus'], default='normal'): \n",
    "        base = file_path.stem\n",
    "        for k in known_classes:\n",
    "            if k in base:\n",
    "                return k\n",
    "        return default\n",
    "\n",
    "    il = ImageList.from_folder(path).split_by_rand_pct(valid_pct).label_from_func(get_labels).transform(tfms, size=size)\n",
    "    db = il.databunch(bs=bs, num_workers=workers).normalize(imagenet_stats)\n",
    "    return db"
   ]
  },
  {
   "cell_type": "code",
   "execution_count": 13,
   "metadata": {},
   "outputs": [],
   "source": [
    "path = Path()/'data'/'chest_xray' / 'train'\n",
    "#path.ls()"
   ]
  },
  {
   "cell_type": "code",
   "execution_count": 14,
   "metadata": {},
   "outputs": [
    {
     "name": "stdout",
     "output_type": "stream",
     "text": [
      "3 ['bacteria', 'normal', 'virus']\n"
     ]
    },
    {
     "data": {
      "text/plain": [
       "ImageDataBunch;\n",
       "\n",
       "Train: LabelList (4173 items)\n",
       "x: ImageList\n",
       "Image (3, 500, 500),Image (3, 500, 500),Image (3, 500, 500),Image (3, 500, 500),Image (3, 500, 500)\n",
       "y: CategoryList\n",
       "normal,normal,normal,normal,normal\n",
       "Path: data\\chest_xray\\train;\n",
       "\n",
       "Valid: LabelList (1043 items)\n",
       "x: ImageList\n",
       "Image (3, 500, 500),Image (3, 500, 500),Image (3, 500, 500),Image (3, 500, 500),Image (3, 500, 500)\n",
       "y: CategoryList\n",
       "normal,normal,virus,bacteria,bacteria\n",
       "Path: data\\chest_xray\\train;\n",
       "\n",
       "Test: None"
      ]
     },
     "execution_count": 14,
     "metadata": {},
     "output_type": "execute_result"
    }
   ],
   "source": [
    "data = get_databunch(path)\n",
    "print(data.c, data.classes)\n",
    "data"
   ]
  },
  {
   "cell_type": "code",
   "execution_count": null,
   "metadata": {},
   "outputs": [],
   "source": []
  }
 ],
 "metadata": {
  "accelerator": "GPU",
  "colab": {
   "include_colab_link": true,
   "name": "Explore Dataset.ipynb",
   "provenance": [],
   "version": "0.3.2"
  },
  "kernelspec": {
   "display_name": "Python [conda env:fastai]",
   "language": "python",
   "name": "conda-env-fastai-py"
  },
  "language_info": {
   "codemirror_mode": {
    "name": "ipython",
    "version": 3
   },
   "file_extension": ".py",
   "mimetype": "text/x-python",
   "name": "python",
   "nbconvert_exporter": "python",
   "pygments_lexer": "ipython3",
   "version": "3.7.4"
  }
 },
 "nbformat": 4,
 "nbformat_minor": 1
}
